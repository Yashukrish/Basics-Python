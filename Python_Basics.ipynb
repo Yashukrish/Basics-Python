{
  "nbformat": 4,
  "nbformat_minor": 0,
  "metadata": {
    "colab": {
      "provenance": []
    },
    "kernelspec": {
      "name": "python3",
      "display_name": "Python 3"
    },
    "language_info": {
      "name": "python"
    }
  },
  "cells": [
    {
      "cell_type": "markdown",
      "source": [
        "1.Explain the key features of Python that make it a popular choice for programming\n",
        "\n",
        "   -> It is very easy to understand and write. It provides developers with the flexibility to choose the most suitable approach based on the specific requirements of their projects, Beign compatable with multiple programming paradigms, Including object-oriented,procedural.\n",
        "\n",
        "2.Describe the role of predefined keywords in Python and provide examples of how they are used in a program\n",
        "\n",
        "  -> Keywords are reserved words in Python that have special meanings and cannot be used as identifiers.They are case sensitive and cannot be redefined within python program. Key words like if, else, while, for, def, class, import, try, except, return, True, False, None, etc.\n",
        "\n",
        "3.Compare and contrast mutable and immutable objects in Python with examples\n",
        "\n",
        "  -> in python objects can be either changeable (Mutable) or unchangeable (Immutable). Mutable objects like List & Dictionaries can change then after  creation also, whereas Immutable objects like strings not able to change after creation.\n",
        "4. Discuss the different types of operators in Python and provide examples of how they are used\n",
        "\n",
        " -> Operators are special symbols or keywords that are used to carry out specific actions on numbers or variables in Python expressions.It includes Arithmetic operators( +,-,*,/), comparsion operators(==,>,<), Logical opertors(and or Not) & Assigment operators( =,+=,-=,/=).\n",
        "\n",
        "5. Explain the concept of type casting in Python with examples ?\n",
        "\n",
        " -> converting one data type into another. It is used when you want to perform operations that require specific types or to ensure compatibility between different data types they are two types 1) Implicit Type casting - this can happen automatically during the runtime. 2) Explicit Type casting  - this involves manually converting a variable's data type using specific functions"
      ],
      "metadata": {
        "id": "IyrVroSdeGFq"
      }
    },
    {
      "cell_type": "code",
      "execution_count": 4,
      "metadata": {
        "id": "JiFZf1qDbRP0",
        "colab": {
          "base_uri": "https://localhost:8080/"
        },
        "outputId": "0e0447fa-972d-4b02-8565-c02a1b5044b7"
      },
      "outputs": [
        {
          "output_type": "stream",
          "name": "stdout",
          "text": [
            "7.5\n",
            "<class 'float'>\n"
          ]
        }
      ],
      "source": [
        "# Implicit examples\n",
        "A=5\n",
        "B=2.5\n",
        "Answer=A+B\n",
        "print(Answer)\n",
        "print(type(Answer))\n",
        "\n",
        "# In this examples python automatically converts the integer A to flot to match the B"
      ]
    },
    {
      "cell_type": "code",
      "source": [
        "# Explicit Examples\n",
        "\n",
        "# Converting string to Integer\n",
        "\n",
        "Number = \"10\"\n",
        "inte = int(Number)\n",
        "print(inte)\n",
        "print(type(inte))\n"
      ],
      "metadata": {
        "colab": {
          "base_uri": "https://localhost:8080/"
        },
        "id": "42Z3Z0TXnFFf",
        "outputId": "a2775938-6f21-45d0-90e3-9654911a02a0"
      },
      "execution_count": 5,
      "outputs": [
        {
          "output_type": "stream",
          "name": "stdout",
          "text": [
            "10\n",
            "<class 'int'>\n"
          ]
        }
      ]
    },
    {
      "cell_type": "markdown",
      "source": [
        "6. How do conditional statements work in Python? Illustrate with examples ?\n",
        "\n",
        " -> conditional statements are allow to make decision and execute certain code blocks based on whether a specified condition is true or false.The Conditional statements are  if, elif (else if), and else.\n",
        ""
      ],
      "metadata": {
        "id": "hecSD76enEVo"
      }
    },
    {
      "cell_type": "code",
      "source": [
        "# IF Statement\n",
        "X=10\n",
        "if X>5:\n",
        " print(\"X is greater than 5\")\n"
      ],
      "metadata": {
        "colab": {
          "base_uri": "https://localhost:8080/"
        },
        "id": "6Tz_3z-mpZp1",
        "outputId": "a37d475c-717c-4002-ee58-3ffd1734f3d0"
      },
      "execution_count": 6,
      "outputs": [
        {
          "output_type": "stream",
          "name": "stdout",
          "text": [
            "X is greater than 5\n"
          ]
        }
      ]
    },
    {
      "cell_type": "code",
      "source": [
        "# ELIF\n",
        "X=7\n",
        "if X>10:\n",
        "  print(\"X is greater than 10\")\n",
        "elif X>5:\n",
        "  print(\"X is greater than 5 but less than 10\")\n",
        "else:\n",
        "    print(\"X is 5 or less\")"
      ],
      "metadata": {
        "colab": {
          "base_uri": "https://localhost:8080/"
        },
        "id": "l_Bng9J5pxcr",
        "outputId": "c5d2fb5f-43d2-4806-cc4d-ad8cb8098208"
      },
      "execution_count": 13,
      "outputs": [
        {
          "output_type": "stream",
          "name": "stdout",
          "text": [
            "X is greater than 5 but less than 10\n"
          ]
        }
      ]
    },
    {
      "cell_type": "markdown",
      "source": [
        "7.  Describe the different types of loops in Python and their use cases with examples ?\n",
        "\n",
        " -> Loop are to repeat a sequence of actions or a code until a specific condition is fulfilled.\n",
        " They are two types of Loops 1) For Loop & 2) While Loop"
      ],
      "metadata": {
        "id": "pM79EKWOq3hm"
      }
    },
    {
      "cell_type": "code",
      "source": [
        "# While Loop Example\n",
        "\n",
        "n=10\n",
        "i=1\n",
        "while i<n:\n",
        " print(i)\n",
        " i=i+1"
      ],
      "metadata": {
        "colab": {
          "base_uri": "https://localhost:8080/"
        },
        "id": "Am1n3YHQsoMb",
        "outputId": "cf653033-d1c5-46be-f022-940de5b4ec0e"
      },
      "execution_count": 19,
      "outputs": [
        {
          "output_type": "stream",
          "name": "stdout",
          "text": [
            "1\n",
            "2\n",
            "3\n",
            "4\n",
            "5\n",
            "6\n",
            "7\n",
            "8\n",
            "9\n"
          ]
        }
      ]
    },
    {
      "cell_type": "code",
      "source": [
        "# FOR Loop Example\n",
        "Y=\"Yaswanth krishna\"\n",
        "for i in Y:\n",
        "  print(i)"
      ],
      "metadata": {
        "colab": {
          "base_uri": "https://localhost:8080/"
        },
        "id": "CTk8tzfTtKRz",
        "outputId": "904b7570-f84b-42e6-bbe5-392e6c573650"
      },
      "execution_count": 20,
      "outputs": [
        {
          "output_type": "stream",
          "name": "stdout",
          "text": [
            "Y\n",
            "a\n",
            "s\n",
            "w\n",
            "a\n",
            "n\n",
            "t\n",
            "h\n",
            " \n",
            "k\n",
            "r\n",
            "i\n",
            "s\n",
            "h\n",
            "n\n",
            "a\n"
          ]
        }
      ]
    }
  ]
}